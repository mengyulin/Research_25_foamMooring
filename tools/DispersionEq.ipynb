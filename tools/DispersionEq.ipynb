{
 "cells": [
  {
   "cell_type": "markdown",
   "id": "2bd616df",
   "metadata": {
    "slideshow": {
     "slide_type": "slide"
    }
   },
   "source": [
    "[![Open In Colab](https://colab.research.google.com/assets/colab-badge.svg)](https://colab.research.google.com/github/mengyulin/CoastalEngineering/blob/master/Showcase/Chap_3/2_DispersionEq.ipynb)\n",
    "\n",
    "## 載入 Python 函式庫"
   ]
  },
  {
   "cell_type": "code",
   "execution_count": 1,
   "id": "dedbd39e",
   "metadata": {
    "slideshow": {
     "slide_type": "-"
    }
   },
   "outputs": [],
   "source": [
    "%matplotlib inline\n",
    "\n",
    "import numpy as np\n",
    "import matplotlib.pyplot as plt"
   ]
  },
  {
   "cell_type": "markdown",
   "id": "7ff73f06",
   "metadata": {
    "slideshow": {
     "slide_type": "slide"
    }
   },
   "source": [
    "# 使用 Newton Raphson 法求解頻散關係式 (最精確解)\n",
    "\n",
    "source: https://github.com/pyoceans/python-oceans"
   ]
  },
  {
   "cell_type": "markdown",
   "id": "6d99e98f",
   "metadata": {},
   "source": [
    "頻散關係式\n",
    "\n",
    "$$\n",
    "\\omega^2 = g k \\tanh kh\n",
    "$$\n",
    "\n",
    "使用方式 (詳見程式內註解)：\n",
    "1. 先載入 `class Waves` (在同個 Jupyter Notebook 中載入一次即可)。\n",
    "2. 呼叫 `Waves` 並輸入水深 `h` 與週期 `T`，即可輸出波長、波速、群速等值。\n",
    "3. 亦可輸入水深 `h`、波長 `L` 以計算週期。"
   ]
  },
  {
   "cell_type": "code",
   "execution_count": 2,
   "id": "d4e2d008",
   "metadata": {
    "slideshow": {
     "slide_type": "subslide"
    }
   },
   "outputs": [],
   "source": [
    "class Waves:\n",
    "    r\"\"\"\n",
    "    Solves the wave dispersion relationship via Newton-Raphson.\n",
    "\n",
    "    .. math::\n",
    "        \\omega^2 = gk\\tanh kh\n",
    "\n",
    "    Parameters\n",
    "    ----------\n",
    "    h : array_like, str\n",
    "        Water depth [m] or 'deep', 'shallow' as keywords\n",
    "    T : array_like\n",
    "        Wave period [s]\n",
    "    L : array_like\n",
    "        Wave length [m]\n",
    "    thetao : array_like\n",
    "        TODO\n",
    "    Ho : array_like\n",
    "        TODO\n",
    "\n",
    "    Returns\n",
    "    -------\n",
    "    omega : array_like\n",
    "            Wave frequency\n",
    "    TODO: hoLo, hoL, Lo, L, k, T, Co, C, Cg, G, Ks, Kr, theta, H\n",
    "\n",
    "    Notes\n",
    "    -----\n",
    "    Compare values with:\n",
    "    http://www.coastal.udel.edu/faculty/rad/wavetheory.html\n",
    "\n",
    "    Examples\n",
    "    --------\n",
    "    >>> from oceans.sw_extras.waves import Waves\n",
    "    >>> wav = Waves(h=10, T=5, L=None)\n",
    "    >>> print(f\"ho/Lo = {wav.hoLo:.3f}\")\n",
    "    ho/Lo = 0.256\n",
    "    >>> print(f\"ho/L  = {wav.hoL:.3f}\")\n",
    "    ho/L  = 0.273\n",
    "    >>> print(f\"Lo    = {wav.Lo:.3f}\")\n",
    "    Lo    = 39.033\n",
    "    >>> print(f\"L     = {wav.L:.3f}\")\n",
    "    L     = 36.593\n",
    "    >>> print(f\"k     = {wav.k:.3f}\")\n",
    "    k     = 0.172\n",
    "    >>> print(f\"omega = {wav.omega:.3f}\")\n",
    "    omega = 1.257\n",
    "    >>> print(f\"T     = {wav.T:.3f}\")\n",
    "    T     = 5.000\n",
    "    >>> print(f\"C     = {wav.C:.3f}\")\n",
    "    C     = 7.319\n",
    "    >>> print(f\"Cg    = {wav.Cg:.3f}\")\n",
    "    Cg    = 4.471\n",
    "    >>> print(f\"G     = {wav.G:.3f}\")\n",
    "    G     = 0.222\n",
    "    >>> wav = Waves(h=10, T=None, L=100)\n",
    "    >>> print(f\"ho/Lo = {wav.hoLo:.3f}\")\n",
    "    ho/Lo = 0.056\n",
    "    >>> print(f\"ho/L  = {wav.hoL:.3f}\")\n",
    "    ho/L  = 0.100\n",
    "    >>> print(f\"Lo    = {wav.Lo:.3f}\")\n",
    "    Lo    = 179.568\n",
    "    >>> print(f\"L     = {wav.L:.3f}\")\n",
    "    L     = 100.000\n",
    "    >>> print(f\"k     = {wav.k:.3f}\")\n",
    "    k     = 0.063\n",
    "    >>> print(f\"omega = {wav.omega:.3f}\")\n",
    "    omega = 0.586\n",
    "    >>> print(f\"T     = {wav.T:.3f}\")\n",
    "    T     = 10.724\n",
    "    >>> print(f\"C     = {wav.C:.3f}\")\n",
    "    C     = 9.325\n",
    "    >>> print(f\"Cg    = {wav.Cg:.3f}\")\n",
    "    Cg    = 8.291\n",
    "    >>> print(f\"G     = {wav.G:.3f}\")\n",
    "    G     = 0.778\n",
    "    >>> print(f\"Ks  = {wav.Ks:.3f}\")\n",
    "    Ks  = 1.005\n",
    "\n",
    "    \"\"\"\n",
    "\n",
    "    def __init__(self, h, T=None, L=None, thetao=None, Ho=None, lat=None):\n",
    "        self.T = np.asarray(T, dtype=np.float64)\n",
    "        self.L = np.asarray(L, dtype=np.float64)\n",
    "        self.Ho = np.asarray(Ho, dtype=np.float64)\n",
    "        self.lat = np.asarray(lat, dtype=np.float64)\n",
    "        self.thetao = np.asarray(thetao, dtype=np.float64)\n",
    "\n",
    "        if isinstance(h, str):\n",
    "            if L is not None:\n",
    "                if h == \"deep\":\n",
    "                    self.h = self.L / 2.0\n",
    "                elif h == \"shallow\":\n",
    "                    self.h = self.L * 0.05\n",
    "        else:\n",
    "            self.h = np.asarray(h, dtype=np.float64)\n",
    "\n",
    "        g = 9.81  # Default gravity.\n",
    "\n",
    "        if L is None:\n",
    "            self.omega = 2 * np.pi / self.T\n",
    "            self.Lo = (g * self.T**2) / 2 / np.pi\n",
    "            # Returns wavenumber of the gravity wave dispersion relation using\n",
    "            # newtons method. The initial guess is shallow water wavenumber.\n",
    "            self.k = self.omega / np.sqrt(g)\n",
    "            # TODO: May change to,\n",
    "            # self.k = self.w ** 2 / (g * np.sqrt(self.w ** 2 * self.h / g))\n",
    "            f = g * self.k * np.tanh(self.k * self.h) - self.omega**2\n",
    "\n",
    "            while np.abs(f.max()) > 1e-10:\n",
    "                dfdk = g * self.k * self.h * (\n",
    "                    1 / (np.cosh(self.k * self.h))\n",
    "                ) ** 2 + g * np.tanh(self.k * self.h)\n",
    "                self.k = self.k - f / dfdk\n",
    "                # FIXME:\n",
    "                f = g * self.k * np.tanh(self.k * self.h) - self.omega**2\n",
    "\n",
    "            self.L = 2 * np.pi / self.k\n",
    "            if isinstance(h, str):\n",
    "                if h == \"deep\":\n",
    "                    self.h = self.L / 2.0\n",
    "                elif h == \"shallow\":\n",
    "                    self.h = self.L * 0.05\n",
    "        else:\n",
    "            self.Lo = self.L / np.tanh(2 * np.pi * self.h / self.L)\n",
    "            self.k = 2 * np.pi / self.L\n",
    "            self.T = np.sqrt(2 * np.pi * self.Lo / g)\n",
    "            self.omega = 2 * np.pi / self.T\n",
    "\n",
    "        self.hoL = self.h / self.L\n",
    "        self.hoLo = self.h / self.Lo\n",
    "        self.C = self.omega / self.k  # or L / T\n",
    "        self.Co = self.Lo / self.T\n",
    "        self.G = 2 * self.k * self.h / np.sinh(2 * self.k * self.h)\n",
    "        self.n = (1 + self.G) / 2\n",
    "        self.Cg = self.n * self.C\n",
    "        self.Ks = np.sqrt(1 / (1 + self.G) / np.tanh(self.k * self.h))\n",
    "\n",
    "        if thetao is None:\n",
    "            self.theta = np.NaN\n",
    "            self.Kr = np.NaN\n",
    "        if thetao is not None:\n",
    "            self.theta = np.rad2deg(\n",
    "                np.asin(self.C / self.Co * np.sin(np.deg2rad(self.thetao))),\n",
    "            )\n",
    "            self.Kr = np.sqrt(\n",
    "                np.cos(np.deg2rad(self.thetao)) / np.cos(np.deg2rad(self.theta)),\n",
    "            )\n",
    "\n",
    "        if Ho is None:\n",
    "            self.H = np.NaN\n",
    "        if Ho is not None:\n",
    "            self.H = self.Ho * self.Ks * self.Kr"
   ]
  },
  {
   "cell_type": "markdown",
   "id": "b8469321",
   "metadata": {
    "slideshow": {
     "slide_type": "subslide"
    }
   },
   "source": [
    "### 計算一\n",
    "計算 h = 0.5 m, b = 0.1 m, 不同 kb 值之波長 L 與週期 T:"
   ]
  },
  {
   "cell_type": "code",
   "execution_count": 32,
   "id": "64453cc7",
   "metadata": {},
   "outputs": [
    {
     "name": "stdout",
     "output_type": "stream",
     "text": [
      "| No. |  kb  |   ka  |  H (m)  |  L (m)  |  T (s) |\n",
      "|-----+------+-------+---------+---------+--------|\n",
      "|   1 | 0.30 |  0.05 |  0.0333 |  2.0944 |  1.217 |\n",
      "|   2 | 0.40 |  0.05 |  0.0250 |  1.5708 |  1.022 |\n",
      "|   3 | 0.50 |  0.05 |  0.0200 |  1.2566 |  0.903 |\n",
      "|   4 | 0.60 |  0.05 |  0.0167 |  1.0472 |  0.821 |\n",
      "|   5 | 0.70 |  0.05 |  0.0143 |  0.8976 |  0.759 |\n",
      "|   6 | 0.80 |  0.05 |  0.0125 |  0.7854 |  0.709 |\n",
      "|   7 | 0.90 |  0.05 |  0.0111 |  0.6981 |  0.669 |\n",
      "|   8 | 1.00 |  0.05 |  0.0100 |  0.6283 |  0.634 |\n",
      "|   9 | 1.10 |  0.05 |  0.0091 |  0.5712 |  0.605 |\n",
      "|  10 | 1.20 |  0.05 |  0.0083 |  0.5236 |  0.579 |\n",
      "|  11 | 0.30 |  0.10 |  0.0667 |  2.0944 |  1.217 |\n",
      "|  12 | 0.40 |  0.10 |  0.0500 |  1.5708 |  1.022 |\n",
      "|  13 | 0.50 |  0.10 |  0.0400 |  1.2566 |  0.903 |\n",
      "|  14 | 0.60 |  0.10 |  0.0333 |  1.0472 |  0.821 |\n",
      "|  15 | 0.70 |  0.10 |  0.0286 |  0.8976 |  0.759 |\n",
      "|  16 | 0.80 |  0.10 |  0.0250 |  0.7854 |  0.709 |\n",
      "|  17 | 0.90 |  0.10 |  0.0222 |  0.6981 |  0.669 |\n",
      "|  18 | 1.00 |  0.10 |  0.0200 |  0.6283 |  0.634 |\n",
      "|  19 | 1.10 |  0.10 |  0.0182 |  0.5712 |  0.605 |\n",
      "|  20 | 1.20 |  0.10 |  0.0167 |  0.5236 |  0.579 |\n"
     ]
    }
   ],
   "source": [
    "b = 0.1\n",
    "h = 0.5\n",
    "kb = np.linspace(0.3, 1.2, 10)\n",
    "ka = np.array([0.05, 0.1])\n",
    "wave_number_list = kb/b\n",
    "\n",
    "# 印出 org-mode table 標題\n",
    "print(\"| No. |  kb  |   ka  |  H (m)  |  L (m)  |  T (s) |\")\n",
    "print(\"|-----+------+-------+---------+---------+--------|\")\n",
    "\n",
    "for i, k in enumerate(wave_number_list, start=1):\n",
    "    wav = Waves(h, T=None, L=2 * np.pi / k)\n",
    "    print(f\"| {i:3d} | {kb[i-1]:4.2f} | {ka[0]:5.2f} | {ka[0]/k*2:7.4f} | {wav.L:7.4f} | {wav.T:6.3f} |\")\n",
    "for i, k in enumerate(wave_number_list, start=1):\n",
    "    wav = Waves(h, T=None, L=2 * np.pi / k)\n",
    "    print(f\"| {i+10:3d} | {kb[i-1]:4.2f} | {ka[1]:5.2f} | {ka[1]/k*2:7.4f} | {wav.L:7.4f} | {wav.T:6.3f} |\")"
   ]
  },
  {
   "cell_type": "code",
   "execution_count": null,
   "id": "5380407d",
   "metadata": {},
   "outputs": [],
   "source": []
  }
 ],
 "metadata": {
  "celltoolbar": "Slideshow",
  "kernelspec": {
   "display_name": "base",
   "language": "python",
   "name": "python3"
  },
  "language_info": {
   "codemirror_mode": {
    "name": "ipython",
    "version": 3
   },
   "file_extension": ".py",
   "mimetype": "text/x-python",
   "name": "python",
   "nbconvert_exporter": "python",
   "pygments_lexer": "ipython3",
   "version": "3.11.0"
  }
 },
 "nbformat": 4,
 "nbformat_minor": 5
}
